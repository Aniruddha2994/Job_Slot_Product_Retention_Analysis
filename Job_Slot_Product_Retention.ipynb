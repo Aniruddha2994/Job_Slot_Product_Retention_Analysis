{
 "cells": [
  {
   "cell_type": "markdown",
   "metadata": {},
   "source": [
    "# Job Slot Product Retention Analysis\n",
    "#### Author                   : Aniruddha Dutta\n",
    "#### Dtae Created on   : 21 Feb 2020\n",
    "#### Last Modified on  : 22 Feb 2020\n",
    "#### version                  : 1.0"
   ]
  },
  {
   "cell_type": "code",
   "execution_count": 1,
   "metadata": {},
   "outputs": [],
   "source": [
    "import pandas as pd\n",
    "import numpy as np\n",
    "import matplotlib.pyplot as plt\n",
    "from datetime import datetime\n",
    "import seaborn as sns\n",
    "import math\n",
    "from sklearn.model_selection import train_test_split\n",
    "from sklearn.linear_model import LogisticRegression\n",
    "from sklearn.metrics import classification_report\n",
    "from sklearn.metrics import confusion_matrix,accuracy_score\n",
    "from sklearn.tree import DecisionTreeClassifier \n",
    "from sklearn.feature_selection import SelectKBest\n",
    "from sklearn.feature_selection import f_classif\n"
   ]
  },
  {
   "cell_type": "markdown",
   "metadata": {},
   "source": [
    "### Reading input data\n",
    "Stored original data into two seperate csv files:\n",
    "1. Sales_performance_data: Containing the job slots sales performance data at a employer_ID, City_ID, Contract_ID level.\n",
    "2. Location_data: Containing the city to state mapping\n",
    "\n",
    "Note: Extracted Month and Year from the StartDate to create two new columns in the sales_performance_data for the analysis. This was done in Excel."
   ]
  },
  {
   "cell_type": "code",
   "execution_count": 2,
   "metadata": {},
   "outputs": [],
   "source": [
    "sales_perf_data = pd.read_csv(\"sales_performance_data.csv\")\n",
    "location_data = pd.read_csv(\"location_data.csv\")"
   ]
  },
  {
   "cell_type": "code",
   "execution_count": 3,
   "metadata": {},
   "outputs": [
    {
     "data": {
      "text/html": [
       "<div>\n",
       "<style scoped>\n",
       "    .dataframe tbody tr th:only-of-type {\n",
       "        vertical-align: middle;\n",
       "    }\n",
       "\n",
       "    .dataframe tbody tr th {\n",
       "        vertical-align: top;\n",
       "    }\n",
       "\n",
       "    .dataframe thead th {\n",
       "        text-align: right;\n",
       "    }\n",
       "</style>\n",
       "<table border=\"1\" class=\"dataframe\">\n",
       "  <thead>\n",
       "    <tr style=\"text-align: right;\">\n",
       "      <th></th>\n",
       "      <th>Employer_ID</th>\n",
       "      <th>City_ID</th>\n",
       "      <th>Contract_ID</th>\n",
       "      <th>StartDate</th>\n",
       "      <th>EndDate</th>\n",
       "      <th>Contract_Duration</th>\n",
       "      <th>Renewal_Flag</th>\n",
       "      <th>Job_Slots</th>\n",
       "      <th>Total_Contract_Value</th>\n",
       "      <th>Applications</th>\n",
       "      <th>Apply_Start_Clicks</th>\n",
       "      <th>Click_Market_Value</th>\n",
       "      <th>Job_Listings</th>\n",
       "      <th>Month</th>\n",
       "      <th>Year</th>\n",
       "      <th>CMV/TCV</th>\n",
       "    </tr>\n",
       "  </thead>\n",
       "  <tbody>\n",
       "    <tr>\n",
       "      <th>0</th>\n",
       "      <td>4277920</td>\n",
       "      <td>9767</td>\n",
       "      <td>2423796</td>\n",
       "      <td>30-10-2017</td>\n",
       "      <td>30-11-2017</td>\n",
       "      <td>31</td>\n",
       "      <td>1</td>\n",
       "      <td>15</td>\n",
       "      <td>995</td>\n",
       "      <td>215</td>\n",
       "      <td>255</td>\n",
       "      <td>15484.40</td>\n",
       "      <td>25</td>\n",
       "      <td>10</td>\n",
       "      <td>2017</td>\n",
       "      <td>15.562211</td>\n",
       "    </tr>\n",
       "    <tr>\n",
       "      <th>1</th>\n",
       "      <td>2372987</td>\n",
       "      <td>8585</td>\n",
       "      <td>2074128</td>\n",
       "      <td>29-06-2017</td>\n",
       "      <td>29-07-2017</td>\n",
       "      <td>30</td>\n",
       "      <td>0</td>\n",
       "      <td>50</td>\n",
       "      <td>1495</td>\n",
       "      <td>55</td>\n",
       "      <td>70</td>\n",
       "      <td>1719.30</td>\n",
       "      <td>50</td>\n",
       "      <td>6</td>\n",
       "      <td>2017</td>\n",
       "      <td>1.150033</td>\n",
       "    </tr>\n",
       "    <tr>\n",
       "      <th>2</th>\n",
       "      <td>1142693</td>\n",
       "      <td>6665</td>\n",
       "      <td>1924740</td>\n",
       "      <td>02-05-2017</td>\n",
       "      <td>02-06-2017</td>\n",
       "      <td>31</td>\n",
       "      <td>0</td>\n",
       "      <td>15</td>\n",
       "      <td>495</td>\n",
       "      <td>45</td>\n",
       "      <td>95</td>\n",
       "      <td>1195.75</td>\n",
       "      <td>20</td>\n",
       "      <td>5</td>\n",
       "      <td>2017</td>\n",
       "      <td>2.415657</td>\n",
       "    </tr>\n",
       "    <tr>\n",
       "      <th>3</th>\n",
       "      <td>1353893</td>\n",
       "      <td>5165</td>\n",
       "      <td>1942512</td>\n",
       "      <td>09-05-2017</td>\n",
       "      <td>06-06-2017</td>\n",
       "      <td>28</td>\n",
       "      <td>0</td>\n",
       "      <td>15</td>\n",
       "      <td>995</td>\n",
       "      <td>155</td>\n",
       "      <td>175</td>\n",
       "      <td>1197.35</td>\n",
       "      <td>20</td>\n",
       "      <td>5</td>\n",
       "      <td>2017</td>\n",
       "      <td>1.203367</td>\n",
       "    </tr>\n",
       "    <tr>\n",
       "      <th>4</th>\n",
       "      <td>922427</td>\n",
       "      <td>3882</td>\n",
       "      <td>1380984</td>\n",
       "      <td>19-09-2016</td>\n",
       "      <td>20-10-2016</td>\n",
       "      <td>31</td>\n",
       "      <td>1</td>\n",
       "      <td>15</td>\n",
       "      <td>745</td>\n",
       "      <td>150</td>\n",
       "      <td>185</td>\n",
       "      <td>8889.70</td>\n",
       "      <td>20</td>\n",
       "      <td>9</td>\n",
       "      <td>2016</td>\n",
       "      <td>11.932483</td>\n",
       "    </tr>\n",
       "  </tbody>\n",
       "</table>\n",
       "</div>"
      ],
      "text/plain": [
       "   Employer_ID  City_ID  Contract_ID   StartDate     EndDate  \\\n",
       "0      4277920     9767      2423796  30-10-2017  30-11-2017   \n",
       "1      2372987     8585      2074128  29-06-2017  29-07-2017   \n",
       "2      1142693     6665      1924740  02-05-2017  02-06-2017   \n",
       "3      1353893     5165      1942512  09-05-2017  06-06-2017   \n",
       "4       922427     3882      1380984  19-09-2016  20-10-2016   \n",
       "\n",
       "   Contract_Duration  Renewal_Flag  Job_Slots  Total_Contract_Value  \\\n",
       "0                 31             1         15                   995   \n",
       "1                 30             0         50                  1495   \n",
       "2                 31             0         15                   495   \n",
       "3                 28             0         15                   995   \n",
       "4                 31             1         15                   745   \n",
       "\n",
       "   Applications  Apply_Start_Clicks  Click_Market_Value  Job_Listings  Month  \\\n",
       "0           215                 255            15484.40            25     10   \n",
       "1            55                  70             1719.30            50      6   \n",
       "2            45                  95             1195.75            20      5   \n",
       "3           155                 175             1197.35            20      5   \n",
       "4           150                 185             8889.70            20      9   \n",
       "\n",
       "   Year    CMV/TCV  \n",
       "0  2017  15.562211  \n",
       "1  2017   1.150033  \n",
       "2  2017   2.415657  \n",
       "3  2017   1.203367  \n",
       "4  2016  11.932483  "
      ]
     },
     "execution_count": 3,
     "metadata": {},
     "output_type": "execute_result"
    }
   ],
   "source": [
    "sales_perf_data.head(5)"
   ]
  },
  {
   "cell_type": "code",
   "execution_count": 4,
   "metadata": {
    "scrolled": false
   },
   "outputs": [
    {
     "data": {
      "text/html": [
       "<div>\n",
       "<style scoped>\n",
       "    .dataframe tbody tr th:only-of-type {\n",
       "        vertical-align: middle;\n",
       "    }\n",
       "\n",
       "    .dataframe tbody tr th {\n",
       "        vertical-align: top;\n",
       "    }\n",
       "\n",
       "    .dataframe thead th {\n",
       "        text-align: right;\n",
       "    }\n",
       "</style>\n",
       "<table border=\"1\" class=\"dataframe\">\n",
       "  <thead>\n",
       "    <tr style=\"text-align: right;\">\n",
       "      <th></th>\n",
       "      <th>City_ID</th>\n",
       "      <th>City_Name</th>\n",
       "      <th>State_ID</th>\n",
       "      <th>State_Name</th>\n",
       "    </tr>\n",
       "  </thead>\n",
       "  <tbody>\n",
       "    <tr>\n",
       "      <th>0</th>\n",
       "      <td>1</td>\n",
       "      <td>Rockford</td>\n",
       "      <td>OH</td>\n",
       "      <td>Ohio</td>\n",
       "    </tr>\n",
       "    <tr>\n",
       "      <th>1</th>\n",
       "      <td>2</td>\n",
       "      <td>Sedgewickville</td>\n",
       "      <td>MO</td>\n",
       "      <td>Missouri</td>\n",
       "    </tr>\n",
       "    <tr>\n",
       "      <th>2</th>\n",
       "      <td>3</td>\n",
       "      <td>Whitehouse</td>\n",
       "      <td>OH</td>\n",
       "      <td>Ohio</td>\n",
       "    </tr>\n",
       "    <tr>\n",
       "      <th>3</th>\n",
       "      <td>4</td>\n",
       "      <td>Victor</td>\n",
       "      <td>IA</td>\n",
       "      <td>Iowa</td>\n",
       "    </tr>\n",
       "    <tr>\n",
       "      <th>4</th>\n",
       "      <td>5</td>\n",
       "      <td>Pacific Junction</td>\n",
       "      <td>IA</td>\n",
       "      <td>Iowa</td>\n",
       "    </tr>\n",
       "  </tbody>\n",
       "</table>\n",
       "</div>"
      ],
      "text/plain": [
       "   City_ID         City_Name State_ID State_Name\n",
       "0        1          Rockford       OH       Ohio\n",
       "1        2    Sedgewickville       MO   Missouri\n",
       "2        3        Whitehouse       OH       Ohio\n",
       "3        4            Victor       IA       Iowa\n",
       "4        5  Pacific Junction       IA       Iowa"
      ]
     },
     "execution_count": 4,
     "metadata": {},
     "output_type": "execute_result"
    }
   ],
   "source": [
    "location_data.head(5)"
   ]
  },
  {
   "cell_type": "markdown",
   "metadata": {},
   "source": [
    "### EDA\n",
    "Merging the two files to create a single analytical data set for Exploratory Data Ananlysis"
   ]
  },
  {
   "cell_type": "code",
   "execution_count": 5,
   "metadata": {
    "scrolled": true
   },
   "outputs": [
    {
     "data": {
      "text/html": [
       "<div>\n",
       "<style scoped>\n",
       "    .dataframe tbody tr th:only-of-type {\n",
       "        vertical-align: middle;\n",
       "    }\n",
       "\n",
       "    .dataframe tbody tr th {\n",
       "        vertical-align: top;\n",
       "    }\n",
       "\n",
       "    .dataframe thead th {\n",
       "        text-align: right;\n",
       "    }\n",
       "</style>\n",
       "<table border=\"1\" class=\"dataframe\">\n",
       "  <thead>\n",
       "    <tr style=\"text-align: right;\">\n",
       "      <th></th>\n",
       "      <th>Employer_ID</th>\n",
       "      <th>City_ID</th>\n",
       "      <th>Contract_ID</th>\n",
       "      <th>StartDate</th>\n",
       "      <th>EndDate</th>\n",
       "      <th>Contract_Duration</th>\n",
       "      <th>Renewal_Flag</th>\n",
       "      <th>Job_Slots</th>\n",
       "      <th>Total_Contract_Value</th>\n",
       "      <th>Applications</th>\n",
       "      <th>Apply_Start_Clicks</th>\n",
       "      <th>Click_Market_Value</th>\n",
       "      <th>Job_Listings</th>\n",
       "      <th>Month</th>\n",
       "      <th>Year</th>\n",
       "      <th>CMV/TCV</th>\n",
       "      <th>City_Name</th>\n",
       "      <th>State_ID</th>\n",
       "      <th>State_Name</th>\n",
       "    </tr>\n",
       "  </thead>\n",
       "  <tbody>\n",
       "    <tr>\n",
       "      <th>0</th>\n",
       "      <td>4277920</td>\n",
       "      <td>9767</td>\n",
       "      <td>2423796</td>\n",
       "      <td>30-10-2017</td>\n",
       "      <td>30-11-2017</td>\n",
       "      <td>31</td>\n",
       "      <td>1</td>\n",
       "      <td>15</td>\n",
       "      <td>995</td>\n",
       "      <td>215</td>\n",
       "      <td>255</td>\n",
       "      <td>15484.40</td>\n",
       "      <td>25</td>\n",
       "      <td>10</td>\n",
       "      <td>2017</td>\n",
       "      <td>15.562211</td>\n",
       "      <td>Kaser</td>\n",
       "      <td>NY</td>\n",
       "      <td>New York</td>\n",
       "    </tr>\n",
       "    <tr>\n",
       "      <th>1</th>\n",
       "      <td>2372987</td>\n",
       "      <td>8585</td>\n",
       "      <td>2074128</td>\n",
       "      <td>29-06-2017</td>\n",
       "      <td>29-07-2017</td>\n",
       "      <td>30</td>\n",
       "      <td>0</td>\n",
       "      <td>50</td>\n",
       "      <td>1495</td>\n",
       "      <td>55</td>\n",
       "      <td>70</td>\n",
       "      <td>1719.30</td>\n",
       "      <td>50</td>\n",
       "      <td>6</td>\n",
       "      <td>2017</td>\n",
       "      <td>1.150033</td>\n",
       "      <td>Mexico</td>\n",
       "      <td>PA</td>\n",
       "      <td>Pennsylvania</td>\n",
       "    </tr>\n",
       "    <tr>\n",
       "      <th>2</th>\n",
       "      <td>1142693</td>\n",
       "      <td>6665</td>\n",
       "      <td>1924740</td>\n",
       "      <td>02-05-2017</td>\n",
       "      <td>02-06-2017</td>\n",
       "      <td>31</td>\n",
       "      <td>0</td>\n",
       "      <td>15</td>\n",
       "      <td>495</td>\n",
       "      <td>45</td>\n",
       "      <td>95</td>\n",
       "      <td>1195.75</td>\n",
       "      <td>20</td>\n",
       "      <td>5</td>\n",
       "      <td>2017</td>\n",
       "      <td>2.415657</td>\n",
       "      <td>Seagoville</td>\n",
       "      <td>TX</td>\n",
       "      <td>Texas</td>\n",
       "    </tr>\n",
       "    <tr>\n",
       "      <th>3</th>\n",
       "      <td>1353893</td>\n",
       "      <td>5165</td>\n",
       "      <td>1942512</td>\n",
       "      <td>09-05-2017</td>\n",
       "      <td>06-06-2017</td>\n",
       "      <td>28</td>\n",
       "      <td>0</td>\n",
       "      <td>15</td>\n",
       "      <td>995</td>\n",
       "      <td>155</td>\n",
       "      <td>175</td>\n",
       "      <td>1197.35</td>\n",
       "      <td>20</td>\n",
       "      <td>5</td>\n",
       "      <td>2017</td>\n",
       "      <td>1.203367</td>\n",
       "      <td>Tyrone</td>\n",
       "      <td>PA</td>\n",
       "      <td>Pennsylvania</td>\n",
       "    </tr>\n",
       "    <tr>\n",
       "      <th>4</th>\n",
       "      <td>922427</td>\n",
       "      <td>3882</td>\n",
       "      <td>1380984</td>\n",
       "      <td>19-09-2016</td>\n",
       "      <td>20-10-2016</td>\n",
       "      <td>31</td>\n",
       "      <td>1</td>\n",
       "      <td>15</td>\n",
       "      <td>745</td>\n",
       "      <td>150</td>\n",
       "      <td>185</td>\n",
       "      <td>8889.70</td>\n",
       "      <td>20</td>\n",
       "      <td>9</td>\n",
       "      <td>2016</td>\n",
       "      <td>11.932483</td>\n",
       "      <td>Capitola</td>\n",
       "      <td>CA</td>\n",
       "      <td>California</td>\n",
       "    </tr>\n",
       "  </tbody>\n",
       "</table>\n",
       "</div>"
      ],
      "text/plain": [
       "   Employer_ID  City_ID  Contract_ID   StartDate     EndDate  \\\n",
       "0      4277920     9767      2423796  30-10-2017  30-11-2017   \n",
       "1      2372987     8585      2074128  29-06-2017  29-07-2017   \n",
       "2      1142693     6665      1924740  02-05-2017  02-06-2017   \n",
       "3      1353893     5165      1942512  09-05-2017  06-06-2017   \n",
       "4       922427     3882      1380984  19-09-2016  20-10-2016   \n",
       "\n",
       "   Contract_Duration  Renewal_Flag  Job_Slots  Total_Contract_Value  \\\n",
       "0                 31             1         15                   995   \n",
       "1                 30             0         50                  1495   \n",
       "2                 31             0         15                   495   \n",
       "3                 28             0         15                   995   \n",
       "4                 31             1         15                   745   \n",
       "\n",
       "   Applications  Apply_Start_Clicks  Click_Market_Value  Job_Listings  Month  \\\n",
       "0           215                 255            15484.40            25     10   \n",
       "1            55                  70             1719.30            50      6   \n",
       "2            45                  95             1195.75            20      5   \n",
       "3           155                 175             1197.35            20      5   \n",
       "4           150                 185             8889.70            20      9   \n",
       "\n",
       "   Year    CMV/TCV   City_Name State_ID    State_Name  \n",
       "0  2017  15.562211       Kaser       NY      New York  \n",
       "1  2017   1.150033      Mexico       PA  Pennsylvania  \n",
       "2  2017   2.415657  Seagoville       TX         Texas  \n",
       "3  2017   1.203367      Tyrone       PA  Pennsylvania  \n",
       "4  2016  11.932483    Capitola       CA    California  "
      ]
     },
     "execution_count": 5,
     "metadata": {},
     "output_type": "execute_result"
    }
   ],
   "source": [
    "ads = sales_perf_data.merge(location_data, how = \"left\", on = \"City_ID\")\n",
    "ads.head(5)"
   ]
  },
  {
   "cell_type": "code",
   "execution_count": 6,
   "metadata": {
    "scrolled": true
   },
   "outputs": [
    {
     "data": {
      "text/plain": [
       "Text(0.5, 1.0, 'graph1')"
      ]
     },
     "execution_count": 6,
     "metadata": {},
     "output_type": "execute_result"
    },
    {
     "data": {
      "image/png": "[encoded data removed]",
      "text/plain": [
       "<Figure size 432x288 with 1 Axes>"
      ]
     },
     "metadata": {
      "needs_background": "light"
     },
     "output_type": "display_data"
    }
   ],
   "source": [
    "# Bar plot to see the distribution of instances when contracts were renewed by the partners\n",
    "sns.countplot('Renewal_Flag', data = ads)\n",
    "plt.title(\"graph1\")"
   ]
  },
  {
   "cell_type": "code",
   "execution_count": 7,
   "metadata": {
    "scrolled": false
   },
   "outputs": [
    {
     "data": {
      "text/plain": [
       "Text(0.5, 1.0, 'graph5')"
      ]
     },
     "execution_count": 7,
     "metadata": {},
     "output_type": "execute_result"
    },
    {
     "data": {
      "image/png": "[encoded data removed]",
      "text/plain": [
       "<Figure size 1440x720 with 4 Axes>"
      ]
     },
     "metadata": {
      "needs_background": "light"
     },
     "output_type": "display_data"
    }
   ],
   "source": [
    "#Plotting distribution of Renewal instances across other fields\n",
    "#Renewal vs Year, to see if change in year had an impact on number of renewals\n",
    "plt.figure(figsize = (20,10))\n",
    "plt.subplot(2,2,1)\n",
    "sns.countplot('Year', hue = 'Renewal_Flag', data = ads)\n",
    "plt.title(\"graph2\")\n",
    "\n",
    "#Renewal vs Months, Looked across months for year 2017 as from the previous graph we see that- \n",
    "#2017 witnessed high renewals and more number of purchases compared to 2016. \n",
    "plt.subplot(2,2,2)\n",
    "sns.countplot('Month', hue = 'Renewal_Flag', data = ads.loc[ads['Year']== 2017], )\n",
    "plt.title(\"graph3\")\n",
    "\n",
    "#Job Slots vs Renewals, Treating Job Slots as a categorical variable \n",
    "#(Assuming Job slots are sold in only these two figures 15 and 50)\n",
    "plt.subplot(2,2,3)\n",
    "sns.countplot('Job_Slots', hue = 'Renewal_Flag', data = ads )\n",
    "plt.title(\"graph4\")\n",
    "\n",
    "#renewals vs States, to check if any certain State has higher retention than others.\n",
    "plt.subplot(2,2,4)\n",
    "sns.countplot('State_Name', hue = 'Renewal_Flag', data = ads )\n",
    "plt.title(\"graph5\")"
   ]
  },
  {
   "cell_type": "code",
   "execution_count": 8,
   "metadata": {
    "scrolled": false
   },
   "outputs": [
    {
     "data": {
      "text/plain": [
       "Text(0.5, 1.0, 'graph6')"
      ]
     },
     "execution_count": 8,
     "metadata": {},
     "output_type": "execute_result"
    },
    {
     "data": {
      "image/png": "[encoded data removed]",
      "text/plain": [
       "<Figure size 1080x504 with 1 Axes>"
      ]
     },
     "metadata": {
      "needs_background": "light"
     },
     "output_type": "display_data"
    }
   ],
   "source": [
    "#Plotting the avg. Total_Contract_Value for renewal and non-renewal instances across states\n",
    "a = ads.loc[ads['Renewal_Flag']== 1].groupby(['State_Name']).mean()\n",
    "\n",
    "y1 = a['Total_Contract_Value']\n",
    "\n",
    "b = ads.loc[ads['Renewal_Flag']== 0].groupby(['State_Name']).mean()\n",
    "y2 = b['Total_Contract_Value']\n",
    "x = pd.unique(ads['State_Name'])\n",
    "plt.figure(figsize = (15,7))\n",
    "plt.plot(x,y1, \"b\", label = \"1\")\n",
    "plt.plot(x,y2, \"r\", label = \"0\")\n",
    "plt.ylabel(\"avg.Total_Contract_Value\")\n",
    "plt.legend(bbox_to_anchor = (1.05, 1), loc='upper left', borderaxespad=0.)\n",
    "plt.title(\"graph6\")"
   ]
  },
  {
   "cell_type": "code",
   "execution_count": 9,
   "metadata": {},
   "outputs": [
    {
     "data": {
      "text/plain": [
       "Text(0.5, 1.0, 'graph7')"
      ]
     },
     "execution_count": 9,
     "metadata": {},
     "output_type": "execute_result"
    },
    {
     "data": {
      "image/png": "[encoded data removed]",
      "text/plain": [
       "<Figure size 1080x504 with 1 Axes>"
      ]
     },
     "metadata": {
      "needs_background": "light"
     },
     "output_type": "display_data"
    }
   ],
   "source": [
    "#Plotting avg.Total_Contract_Value for renewal and non-renewal instances across months\n",
    "a = ads.loc[ads['Renewal_Flag']== 1].groupby(['Month']).mean()\n",
    "\n",
    "y1 = a['Total_Contract_Value']\n",
    "\n",
    "b = ads.loc[ads['Renewal_Flag']== 0].groupby(['Month']).mean()\n",
    "y2 = b['Total_Contract_Value']\n",
    "x = list(range(1,13))\n",
    "\n",
    "plt.figure(figsize = (15,7))\n",
    "plt.plot(x,y1, \"b\", label = \"1\")\n",
    "plt.plot(x,y2, \"r\", label = \"0\")\n",
    "plt.ylabel(\"avg.Total_Contract_Value\")\n",
    "plt.xlabel(\"Months\")\n",
    "plt.legend(bbox_to_anchor = (1.05, 1), loc='upper left', borderaxespad=0.)\n",
    "plt.title(\"graph7\")"
   ]
  },
  {
   "cell_type": "markdown",
   "metadata": {},
   "source": [
    "Conclusions:\n",
    "1. From graph 2 and 3, we can conclude that retention is affected by months and year change. It can be an indirect factor affecting retention for example: Number of job openings are increasing over the year so more companies are purchasing job slots. Also during fall and winter period, large number of people seek for job opportunities part-time/full-time resulting companies wanting to achieve maximum applicants coverage by purchasing or renewing job slot contracts.\n",
    "2. For the two job-slot categories i.e 15 and 50, we see in graph 4 that the amount of purchased contracts and renewals are much higher for the 15 slot group.\n",
    "3. From the graph 6 and 7, we can tell that the average total_Contract_Value for the non-renewable instances is higher than the renewed ones. And this pattern is persists across both states and months."
   ]
  },
  {
   "cell_type": "markdown",
   "metadata": {},
   "source": [
    "### Prediction Model\n",
    "To identify the combination of factors that best predict the likelihood to retention or renewal, we can build a Logistic Regression model with 'Renewal_Flag' as our binary classifier. "
   ]
  },
  {
   "cell_type": "code",
   "execution_count": 10,
   "metadata": {},
   "outputs": [],
   "source": [
    "#Selecting the predictor variables from the analytical data set for the model. \n",
    "#Excluding fields: Contract_ID, StartDate, EndDate, City_Name, State_Name, State_ID\n",
    "\n",
    "predictors = ['Employer_ID','City_ID','Contract_Duration','Job_Slots','Total_Contract_Value','Applications','Apply_Start_Clicks','Click_Market_Value','Job_Listings','Month','Year']\n",
    "#Creating the predictor variable dataframe and response variable dataframe\n",
    "X = sales_perf_data.loc[:, sales_perf_data.columns.isin(predictors)]\n",
    "\n",
    "Y = sales_perf_data['Renewal_Flag']\n",
    "\n"
   ]
  },
  {
   "cell_type": "code",
   "execution_count": 11,
   "metadata": {
    "scrolled": false
   },
   "outputs": [
    {
     "name": "stdout",
     "output_type": "stream",
     "text": [
      "[1.12532025e+03 1.90315113e+00 2.63530826e+04 1.15464832e+01\n",
      " 2.03934340e+02 1.52253855e+02 2.52917411e+02 5.32908738e+02\n",
      " 1.05114754e+01 2.37803087e+02 5.03771351e+02]\n"
     ]
    },
    {
     "name": "stderr",
     "output_type": "stream",
     "text": [
      "C:\\Users\\Frost\\Anaconda3\\lib\\site-packages\\ipykernel_launcher.py:10: RuntimeWarning: divide by zero encountered in log10\n",
      "  # Remove the CWD from sys.path while we load stuff.\n"
     ]
    },
    {
     "data": {
      "image/png": "[encoded data removed]",
      "text/plain": [
       "<Figure size 432x288 with 1 Axes>"
      ]
     },
     "metadata": {
      "needs_background": "light"
     },
     "output_type": "display_data"
    }
   ],
   "source": [
    "# feature extraction\n",
    "\n",
    "#Performing this step to find the most significant variables as predictors for our model\n",
    "test = SelectKBest(score_func=f_classif, k=5)\n",
    "fit = test.fit(X, Y)\n",
    "\n",
    "# summarize scores\n",
    "print(fit.scores_)\n",
    "\n",
    "scores = -np.log10(fit.pvalues_)\n",
    "\n",
    "#Plotting scores to see which features are best\n",
    "plt.bar(range(len(predictors)), scores)\n",
    "plt.xticks(range(len(predictors)), predictors, rotation='vertical')\n",
    "plt.show()"
   ]
  },
  {
   "cell_type": "markdown",
   "metadata": {},
   "source": [
    "As seen from the EDA, Month and Year are important features, along with Total_Contract_Value, Click_Market_Value, Apply_Click_Starts and Employer_ID."
   ]
  },
  {
   "cell_type": "code",
   "execution_count": 19,
   "metadata": {
    "scrolled": true
   },
   "outputs": [],
   "source": [
    "#Selecting the most important features as predictors for the model\n",
    "imp_predictors = ['Click_Market_Value','Employer_ID','Month','Year','Apply_Start_Clicks','Total_Contract_Value']\n",
    "\n",
    "#dividing the data into training and test datasets. 80% data as training data and 20% as test data.\n",
    "X_new = X.loc[:, X.columns.isin(imp_predictors)]\n",
    "X_train, X_test, Y_train, Y_test = train_test_split(X_new, Y, test_size = 0.20)"
   ]
  },
  {
   "cell_type": "markdown",
   "metadata": {},
   "source": [
    "##### Logistic Regression Model"
   ]
  },
  {
   "cell_type": "code",
   "execution_count": 20,
   "metadata": {
    "scrolled": true
   },
   "outputs": [
    {
     "name": "stdout",
     "output_type": "stream",
     "text": [
      "              precision    recall  f1-score   support\n",
      "\n",
      "           0       0.72      0.15      0.24      2232\n",
      "           1       0.73      0.98      0.84      5320\n",
      "\n",
      "    accuracy                           0.73      7552\n",
      "   macro avg       0.73      0.56      0.54      7552\n",
      "weighted avg       0.73      0.73      0.66      7552\n",
      "\n",
      "[[ 329 1903]\n",
      " [ 126 5194]]\n",
      "0.7313294491525424\n"
     ]
    }
   ],
   "source": [
    "#Logistic Regression Model:\n",
    "\n",
    "logmodel1 = LogisticRegression(C = 0.1, penalty = 'l1', solver = 'liblinear', max_iter = 10000)\n",
    "logmodel1.fit(X_train, Y_train)\n",
    " \n",
    "predictions = logmodel1.predict(X_test)\n",
    "print(classification_report(Y_test, predictions))\n",
    "print(confusion_matrix(Y_test, predictions))\n",
    "print(accuracy_score(Y_test, predictions))"
   ]
  },
  {
   "cell_type": "code",
   "execution_count": 21,
   "metadata": {},
   "outputs": [
    {
     "data": {
      "text/plain": [
       "Text(0.5, 257.44, 'Predicted')"
      ]
     },
     "execution_count": 21,
     "metadata": {},
     "output_type": "execute_result"
    },
    {
     "data": {
      "image/png": "[encoded data removed]",
      "text/plain": [
       "<Figure size 432x288 with 2 Axes>"
      ]
     },
     "metadata": {
      "needs_background": "light"
     },
     "output_type": "display_data"
    }
   ],
   "source": [
    "#Plotting the confusion matrix heatmap\n",
    "cnf_matrix = confusion_matrix(Y_test, predictions)\n",
    "\n",
    "class_names = [0,1]\n",
    "fig, ax = plt.subplots()\n",
    "tick_marks = np.arange(len(class_names))\n",
    "plt.xticks(tick_marks, class_names)\n",
    "plt.yticks(tick_marks, class_names)\n",
    "sns.heatmap(pd.DataFrame(cnf_matrix), annot=True, cmap=\"viridis\" ,fmt='d')\n",
    "ax.xaxis.set_label_position(\"top\")\n",
    "plt.tight_layout()\n",
    "plt.title('Confusion matrix', y=1.1)\n",
    "plt.ylabel('Actual')\n",
    "plt.xlabel('Predicted')"
   ]
  },
  {
   "cell_type": "markdown",
   "metadata": {},
   "source": [
    "##### Results:\n",
    "1. Accuracy of the model: 73.13%\n",
    "2. Confusion matrix: The model is able to predict renewal cases with with high accurace but is also predicting majority of non-renewals as renewals. The accuracy of the model for predicting retention is good but the high false-positives is a concern. This might be because of the less number of data for non-renewals in the sample."
   ]
  },
  {
   "cell_type": "markdown",
   "metadata": {},
   "source": [
    "##### Decision Tree Classifier Model"
   ]
  },
  {
   "cell_type": "markdown",
   "metadata": {},
   "source": [
    "Decision tree classifier can also be used as a binary classifier prediction model. \n",
    "Using Decision tree on the same training and test datasets to compare its results with the Logistic model"
   ]
  },
  {
   "cell_type": "code",
   "execution_count": 22,
   "metadata": {},
   "outputs": [
    {
     "name": "stdout",
     "output_type": "stream",
     "text": [
      "Predicted values:\n",
      "Confusion Matrix:  [[ 899 1333]\n",
      " [ 408 4912]]\n",
      "Accuracy :  76.94650423728814\n",
      "Report :                precision    recall  f1-score   support\n",
      "\n",
      "           0       0.69      0.40      0.51      2232\n",
      "           1       0.79      0.92      0.85      5320\n",
      "\n",
      "    accuracy                           0.77      7552\n",
      "   macro avg       0.74      0.66      0.68      7552\n",
      "weighted avg       0.76      0.77      0.75      7552\n",
      "\n"
     ]
    }
   ],
   "source": [
    "#Using Gini Index criterion for the dicision tree classifier\n",
    "dt_clf_gini = DecisionTreeClassifier(criterion = \"gini\", max_depth=10)\n",
    "dt_clf_gini.fit(X_train, Y_train)\n",
    "\n",
    "dt_pred = dt_clf_gini.predict(X_test)\n",
    "print(\"Predicted values:\")\n",
    "print(\"Confusion Matrix: \", confusion_matrix(Y_test, dt_pred)) \n",
    "print (\"Accuracy : \", accuracy_score(Y_test,dt_pred)*100) \n",
    "print(\"Report : \", classification_report(Y_test, dt_pred)) "
   ]
  },
  {
   "cell_type": "code",
   "execution_count": 23,
   "metadata": {
    "scrolled": true
   },
   "outputs": [
    {
     "data": {
      "text/plain": [
       "Text(0.5, 257.44, 'Predicted')"
      ]
     },
     "execution_count": 23,
     "metadata": {},
     "output_type": "execute_result"
    },
    {
     "data": {
      "image/png": "[encoded data removed]",
      "text/plain": [
       "<Figure size 432x288 with 2 Axes>"
      ]
     },
     "metadata": {
      "needs_background": "light"
     },
     "output_type": "display_data"
    }
   ],
   "source": [
    "#Plotting the confusion matrix\n",
    "cnf_matrix_dt = confusion_matrix(Y_test, dt_pred)\n",
    "\n",
    "class_names = [0,1]\n",
    "fig, ax = plt.subplots()\n",
    "tick_marks = np.arange(len(class_names))\n",
    "plt.xticks(tick_marks, class_names)\n",
    "plt.yticks(tick_marks, class_names)\n",
    "sns.heatmap(pd.DataFrame(cnf_matrix_dt), annot=True, cmap=\"viridis\" ,fmt='d')\n",
    "ax.xaxis.set_label_position(\"top\")\n",
    "plt.tight_layout()\n",
    "plt.title('Confusion matrix', y=1.1)\n",
    "plt.ylabel('Actual')\n",
    "plt.xlabel('Predicted')"
   ]
  },
  {
   "cell_type": "markdown",
   "metadata": {},
   "source": [
    "##### Results:\n",
    "1. Accuracy of the model: 76.94% for tree depth  = 10\n",
    "2. Confusion matrix: The model is able to predict renewal cases with with high accuracy. Though the False-positives(predicting actual 0 as 1) is high, it has better recall than the Logistic model. "
   ]
  },
  {
   "cell_type": "markdown",
   "metadata": {},
   "source": [
    "### Conclusion:\n"
   ]
  },
  {
   "cell_type": "markdown",
   "metadata": {},
   "source": [
    "##### Factors:\n",
    "The factors that best predict likelihood to retention or renewal are:\n",
    "1. Click Market Value\n",
    "2. Apply Start Clicks\n",
    "3. Total Contract Value\n",
    "4. Applications\n",
    "5. Employer_ID\n",
    "\n",
    "Assumptions taken: \n",
    "1. Job Slots are sold in two packages: 15 slot and 50 slot.\n",
    "2. Total_Contract_Value is the selling price of the job slot contract defined by Glassdoor that the client must pay.\n",
    "3. Considering Total_Contract_Value as the income revenue for Glassdoor through selling job slot contracts.\n",
    "\n",
    "\n",
    "##### Model Prediction:\n",
    "I tested two models to see which will better predict the likelihood of renewal of contract.\n",
    "1. Logistic Regression Model: \n",
    "    Overall accuracy of the model is: 73.13%\n",
    "    Even thouogh it is able to predict renewals well enough, it is falsely predicting cases of non-renewal as renewal which can be misleading. \n",
    "2. Decision Tree Classifier:\n",
    "    Overall accuracy of the model is: 76.94%\n",
    "    It is able to predict renewal instances as well as non-renewal instances bettwr than the Logistic model.\n",
    "\n",
    "##### Additional Factors:\n",
    "In addition to the factors available, I would like to investigate Employer details such as industry type or job listing descriptions. I think certain industry sectors are more competitive and job openings than others and so are highly sought after by the applicants. I would like to investigate fields or factors contributing towards the Total_Contract_Value of a contract.\n",
    "##### Recommendation:\n",
    "1. Reducing the selling price of the contract, as the average selling price of contracts(Total_Contract_Value) for renewed instances is lower than the non-renewed ones. Thus it can improve retention rates.\n",
    "2. Remove 50 slot group, and use those slots to create more 15 slot groups which are much more preferred by the employers.According to the data, Total contract cost of these 50 slot groups is higher which leads to less employers opting for it and also not renewing the contract. Also the total revenue generated by the 50 slot group is much less to that of the 15 slot groups."
   ]
  }
 ],
 "metadata": {
  "kernelspec": {
   "display_name": "Python 3",
   "language": "python",
   "name": "python3"
  },
  "language_info": {
   "codemirror_mode": {
    "name": "ipython",
    "version": 3
   },
   "file_extension": ".py",
   "mimetype": "text/x-python",
   "name": "python",
   "nbconvert_exporter": "python",
   "pygments_lexer": "ipython3",
   "version": "3.7.3"
  }
 },
 "nbformat": 4,
 "nbformat_minor": 2
}
